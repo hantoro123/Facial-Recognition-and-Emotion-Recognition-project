{
 "cells": [
  {
   "cell_type": "markdown",
   "metadata": {},
   "source": [
    "# Preprocess하는 코드 모음"
   ]
  },
  {
   "cell_type": "markdown",
   "metadata": {},
   "source": [
    "## 깨진 파일 거르는 코드"
   ]
  },
  {
   "cell_type": "code",
   "execution_count": null,
   "metadata": {},
   "outputs": [],
   "source": [
    "from PIL import Image\n",
    "import os\n",
    "\n",
    "# 전체 데이터의 상위 path\n",
    "check = \"/home/KDT-admin/work/data/\"\n",
    "emotion  = [\"anger\", \"anxiety\", \"embarrass\", \"happy\", \"normal\", \"pain\", \"sad\"] # 이미지 리스트\n",
    "\n",
    "for e in emotion:\n",
    "  #\n",
    "  checkdir = check + e + \"/raw/validation\"\n",
    "  files = os.listdir(checkdir)\n",
    "  format = [\".jpg\"]\n",
    "\n",
    "  for(path, dirs, f) in os.walk(checkdir):\n",
    "    \n",
    "    for file in f:\n",
    "      if file.endswith(tuple(format)):\n",
    "        try:\n",
    "          image = Image.open(path+\"/\"+file).load()\n",
    "          # print(image)\n",
    "        except Exception as e:\n",
    "          print(\"An exception is raised:\", e)\n",
    "          print(file)\n",
    "        # print(f'통과 {file}')\n",
    "\n",
    "    print(f'----   폴더 {path}----')\n"
   ]
  },
  {
   "cell_type": "markdown",
   "metadata": {},
   "source": [
    "## 이미지 추출(데이터의 양)"
   ]
  },
  {
   "cell_type": "code",
   "execution_count": null,
   "metadata": {},
   "outputs": [],
   "source": []
  },
  {
   "cell_type": "markdown",
   "metadata": {},
   "source": [
    "## 이미지 Crop "
   ]
  },
  {
   "cell_type": "code",
   "execution_count": null,
   "metadata": {},
   "outputs": [],
   "source": []
  },
  {
   "cell_type": "markdown",
   "metadata": {},
   "source": [
    "## Json파일 분할"
   ]
  },
  {
   "cell_type": "code",
   "execution_count": null,
   "metadata": {},
   "outputs": [],
   "source": []
  },
  {
   "cell_type": "markdown",
   "metadata": {},
   "source": [
    "## Yolo 라벨링"
   ]
  },
  {
   "cell_type": "code",
   "execution_count": null,
   "metadata": {},
   "outputs": [],
   "source": []
  }
 ],
 "metadata": {
  "language_info": {
   "name": "python"
  }
 },
 "nbformat": 4,
 "nbformat_minor": 2
}
