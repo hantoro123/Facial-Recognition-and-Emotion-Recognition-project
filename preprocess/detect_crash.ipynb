{
 "cells": [
  {
   "cell_type": "code",
   "execution_count": null,
   "metadata": {},
   "outputs": [],
   "source": [
    "from PIL import Image\n",
    "import os\n",
    "\n",
    "# you check the image_path\n",
    "check = \"/home/KDT-admin/work/data/\"\n",
    "emotion  = [\"anger\", \"anxiety\", \"embarrass\", \"happy\", \"normal\", \"pain\", \"sad\"]\n",
    "\n",
    "\n",
    "for e in emotion:\n",
    "  checkdir = check + e + \"/raw/validation\"\n",
    "  files = os.listdir(checkdir)\n",
    "  format = [\".jpg\"]\n",
    "\n",
    "  for(path, dirs, f) in os.walk(checkdir):\n",
    "    \n",
    "    for file in f:\n",
    "      if file.endswith(tuple(format)):\n",
    "        try:\n",
    "          image = Image.open(path+\"/\"+file).load()\n",
    "          # print(image)\n",
    "        except Exception as e:\n",
    "          print(\"An exception is raised:\", e)\n",
    "          print(file)\n",
    "        # print(f'통과 {file}')\n",
    "\n",
    "    print(f'----   폴더 {path}----')\n"
   ]
  }
 ],
 "metadata": {
  "language_info": {
   "name": "python"
  }
 },
 "nbformat": 4,
 "nbformat_minor": 2
}
